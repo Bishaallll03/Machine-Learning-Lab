{
 "cells": [
  {
   "cell_type": "code",
   "execution_count": 151,
   "id": "bd07e5c9-7094-41d2-9000-7c104c9d9a58",
   "metadata": {},
   "outputs": [],
   "source": [
    "from math import *\n",
    "import numpy as np\n",
    "import matplotlib.pyplot as plt"
   ]
  },
  {
   "cell_type": "markdown",
   "id": "75381bc4-65f2-41af-9408-6993f6390d4e",
   "metadata": {},
   "source": [
    "### Generating Data"
   ]
  },
  {
   "cell_type": "code",
   "execution_count": 154,
   "id": "c6538f38-ebd8-4642-9190-b3ae8bc31d94",
   "metadata": {},
   "outputs": [],
   "source": [
    "def generateData(means, cov, size):\n",
    "\n",
    "    x1 = np.random.multivariate_normal(means[0], cov[0], size//3) \n",
    "    x2 = np.random.multivariate_normal(means[1], cov[1], size//3+1) \n",
    "    x3 = np.random.multivariate_normal(means[2], cov[2], size//3)\n",
    "    \n",
    "    y1 = 0 * np.ones(size//3, dtype=int)\n",
    "    y2 = 1 * np.ones(size//3 + 1, dtype=int)\n",
    "    y3 = 2 * np.ones(size//3, dtype=int)\n",
    "    \n",
    "    x_train = np.vstack([x1, x2, x3])\n",
    "    y_train = np.hstack([y1, y2, y3])\n",
    "    \n",
    "    x1 = np.random.multivariate_normal(means[0], cov[0], size//3) \n",
    "    x2 = np.random.multivariate_normal(means[1], cov[1], size//3+1) \n",
    "    x3 = np.random.multivariate_normal(means[2], cov[2], size//3) \n",
    "    \n",
    "    y1 = 0 * np.ones(size//3, dtype=int)\n",
    "    y2 = 1 * np.ones(size//3 + 1, dtype=int)\n",
    "    y3 = 2 * np.ones(size//3, dtype=int)\n",
    "    \n",
    "    x_test = np.vstack([x1, x2, x3])\n",
    "    y_test = np.hstack([y1, y2, y3])\n",
    "    \n",
    "    return x_train, y_train, x_test, y_test\n",
    "    "
   ]
  },
  {
   "cell_type": "markdown",
   "id": "43f02a64-cdd2-4e75-9f8e-e0db1db48868",
   "metadata": {},
   "source": [
    "### Calculate Error"
   ]
  },
  {
   "cell_type": "code",
   "execution_count": 157,
   "id": "1e611c08-ec95-42e6-8975-4070a0915394",
   "metadata": {},
   "outputs": [],
   "source": [
    "def calculateError(y_test, predictions):\n",
    "    sampleSize = np.size(y_test)\n",
    "    errors = np.size(np.where(y_test != predictions))\n",
    "    return (errors/sampleSize) * 100"
   ]
  },
  {
   "cell_type": "code",
   "execution_count": 159,
   "id": "12a7ddba-9886-46ee-a63d-557aead32ce8",
   "metadata": {},
   "outputs": [],
   "source": [
    "means = [\n",
    "    [0, 0, 0],\n",
    "    [1, 2, 2],\n",
    "    [3, 3, 4]\n",
    "    ]\n",
    "cov = [\n",
    "    [\n",
    "        [0.8, 0.2, 0.1],\n",
    "        [0.2, 0.8, 0.2],\n",
    "        [0.1, 0.2, 0.8]\n",
    "    ],\n",
    "    [\n",
    "        [0.6, 0.01, 0.01],\n",
    "        [0.01, 0.8, 0.01],\n",
    "        [0.01, 0.01, 0.6]\n",
    "    ],\n",
    "    [\n",
    "        [0.6, 0.1, 0.1],\n",
    "        [0.1, 0.6, 0.1],\n",
    "        [0.1, 0.1, 0.6]\n",
    "    ],\n",
    "]\n",
    "size = 1000"
   ]
  },
  {
   "cell_type": "markdown",
   "id": "23bd505c-07cc-4e51-8bad-8903225db5ed",
   "metadata": {},
   "source": [
    "### Euclidean Classifier"
   ]
  },
  {
   "cell_type": "code",
   "execution_count": 162,
   "id": "aadfdddf-9948-4cce-8d54-6cf37476e7ba",
   "metadata": {},
   "outputs": [
    {
     "name": "stdout",
     "output_type": "stream",
     "text": [
      "Euclidean Accuracy: 33.3%\n"
     ]
    }
   ],
   "source": [
    "def euclideanClassifier(x_train, y_train, x_test, y_test):\n",
    "\n",
    "    x1 = x_train[y_train == 0]\n",
    "    x2 = x_train[y_train == 1]\n",
    "    x3 = x_train[y_train == 2]\n",
    "    means = np.array([np.mean(x1, 0), np.mean(x2, 0), np.mean(x3, 0)])\n",
    "\n",
    "\n",
    "    dist1 = np.sqrt(np.sum(np.square(np.repeat([means[0]], repeats=np.shape(x_test)[0], axis=0))))\n",
    "    dist2 = np.sqrt(np.sum(np.square(np.repeat([means[1]], repeats=np.shape(x_test)[0], axis=0))))\n",
    "    dist3 = np.sqrt(np.sum(np.square(np.repeat([means[2]], repeats=np.shape(x_test)[0], axis=0))))\n",
    "    euclideanDistances = np.array([dist1, dist2, dist3])\n",
    "    predictions = np.where( euclideanDistances == np.min(euclideanDistances, 0))[0]\n",
    "    \n",
    "    return predictions\n",
    "\n",
    "x_train, y_train, x_test, y_test = generateData(means, cov, size)\n",
    "\n",
    "predictions = euclideanClassifier(x_train, y_train, x_test, y_test)\n",
    "error_e = calculateError(y_test, predictions)\n",
    "accuracy = 100 - error_e  \n",
    "\n",
    "print(f'Euclidean Accuracy: {accuracy}%')\n"
   ]
  },
  {
   "cell_type": "markdown",
   "id": "d72b6eb0-0837-4aab-b360-6bf262d40c2e",
   "metadata": {},
   "source": [
    "### Mahalanobis Classifier"
   ]
  },
  {
   "cell_type": "code",
   "execution_count": 174,
   "id": "c7688fe7-57c9-40d2-8d32-7fe72dd1aa33",
   "metadata": {},
   "outputs": [
    {
     "name": "stdout",
     "output_type": "stream",
     "text": [
      "Mahalanobis Accuracy: 98.3%\n"
     ]
    }
   ],
   "source": [
    "def mahalanobisClassifier(cov, x_train, y_train, x_test, y_test):\n",
    "    \n",
    "    x1 = x_train[y_train == 0]\n",
    "    x2 = x_train[y_train == 1]\n",
    "    x3 = x_train[y_train == 2]\n",
    "    means = np.array([np.mean(x1, 0), np.mean(x2, 0), np.mean(x3, 0)])\n",
    "\n",
    "    mahalanobisProbabilities = [[] for i in range(3)]\n",
    "        \n",
    "    for row in x_test:\n",
    "        for i in range(3):\n",
    "            xm = np.matrix(row - means[i])\n",
    "            md = float(xm * np.linalg.inv(cov[i]) * xm.T)\n",
    "            mahalanobisProbabilities[i].append(md)\n",
    "            \n",
    "    mahalanobisDistances = np.array(mahalanobisProbabilities)\n",
    "    predictions = np.where( mahalanobisDistances == np.min(mahalanobisDistances, 0))[0]\n",
    "    \n",
    "    return predictions\n",
    "    \n",
    "x_train, y_train, x_test, y_test = generateData(means, cov, size)\n",
    "\n",
    "predictions = mahalanobisClassifier(cov, x_train, y_train, x_test, y_test)\n",
    "\n",
    "error_m = calculateError(y_test, predictions)\n",
    "accuracy = 100 - error_m  \n",
    "print(f'Mahalanobis Accuracy: {accuracy}%')\n"
   ]
  },
  {
   "cell_type": "markdown",
   "id": "5fe0474a-4864-41d4-a4df-1ea7fdea4614",
   "metadata": {},
   "source": [
    "### Bayesian Classifier"
   ]
  },
  {
   "cell_type": "code",
   "execution_count": 168,
   "id": "49505f96-0224-4bba-8177-e8bdd38a859d",
   "metadata": {},
   "outputs": [
    {
     "name": "stdout",
     "output_type": "stream",
     "text": [
      "Bayesian Accuracy: 98.0%\n"
     ]
    }
   ],
   "source": [
    "from numpy.linalg import det\n",
    "\n",
    "def bayesianClassifier(cov, x_train, y_train, x_test, y_test):\n",
    "    \n",
    "    x1 = x_train[y_train == 0]\n",
    "    x2 = x_train[y_train == 1]\n",
    "    x3 = x_train[y_train == 2]\n",
    "    means = np.array([np.mean(x1, 0), np.mean(x2, 0), np.mean(x3, 0)])\n",
    "\n",
    "    bayesianProbabilities = [[] for i in range(3)]\n",
    "\n",
    "    for row in x_test:\n",
    "        for i in range(3):\n",
    "            xm = np.matrix(row-means[i])\n",
    "            md = -1/2 * float(xm * np.linalg.inv(cov[i]) * xm.T)\n",
    "            D =  np.power(2*np.pi, means[i].shape[0]/2) * np.power(det(cov[i]),1/2)\n",
    "            P = 1/D * np.exp(md)\n",
    "            bayesianProbabilities[i].append(P)\n",
    "            \n",
    "    bayesianProbabilities = np.array(bayesianProbabilities)\n",
    "    predictions = np.where( bayesianProbabilities == np.max(bayesianProbabilities, 0))[0]\n",
    "    \n",
    "    return predictions\n",
    "    \n",
    "x_train, y_train, x_test, y_test = generateData(means, cov, size)\n",
    "predictions = bayesianClassifier(cov, x_train, y_train, x_test, y_test)\n",
    "\n",
    "error_b = calculateError(y_test, predictions)\n",
    "accuracy = 100 - error_b\n",
    "print(f'Bayesian Accuracy: {accuracy}%')\n"
   ]
  },
  {
   "cell_type": "markdown",
   "id": "b277b605-85dd-4b19-8b6a-d8356544706d",
   "metadata": {},
   "source": [
    "### Error Probability"
   ]
  },
  {
   "cell_type": "code",
   "execution_count": 178,
   "id": "ee2a4b54-237d-4a12-9eaa-be867b35b487",
   "metadata": {},
   "outputs": [
    {
     "name": "stdout",
     "output_type": "stream",
     "text": [
      "Error in Euclidean Classifier: 66.7%\n",
      "Error in Mahalanobis Classifier: 1.7000000000000002%\n",
      "Error in Bayesian Classifier: 2.0%\n"
     ]
    }
   ],
   "source": [
    "print(f'Error in Euclidean Classifier: {error_e}%')\n",
    "print(f'Error in Mahalanobis Classifier: {error_m}%')\n",
    "print(f'Error in Bayesian Classifier: {error_b}%')"
   ]
  },
  {
   "cell_type": "markdown",
   "id": "a8a84259-562d-414c-ba1d-0b2dd1fd1d90",
   "metadata": {},
   "source": [
    "### Considering the California Housing dataset, design a linear regression model considering each feature with non zero values, and report the best feature and model accordng to the R2 metric."
   ]
  },
  {
   "cell_type": "code",
   "execution_count": 210,
   "id": "bdebfd0f-3d39-4421-b9f9-ae9f537f7397",
   "metadata": {},
   "outputs": [],
   "source": [
    "import sklearn.datasets\n",
    "from sklearn.linear_model import LinearRegression\n",
    "from sklearn.metrics import r2_score\n",
    "import numpy as np\n",
    "import pandas as pd"
   ]
  },
  {
   "cell_type": "markdown",
   "id": "d3c0dcf6-dda4-4c4e-891f-eac760487709",
   "metadata": {},
   "source": [
    "### Importing DataSets"
   ]
  },
  {
   "cell_type": "code",
   "execution_count": 212,
   "id": "8515329e-9092-455c-9729-9008e4f1717e",
   "metadata": {},
   "outputs": [
    {
     "name": "stdout",
     "output_type": "stream",
     "text": [
      "(20640, 8) (20640,)\n",
      "['MedInc', 'HouseAge', 'AveRooms', 'AveBedrms', 'Population', 'AveOccup', 'Latitude', 'Longitude']\n"
     ]
    }
   ],
   "source": [
    "caldata = sklearn.datasets.fetch_california_housing()\n",
    "print(caldata.data.shape, caldata.target.shape)\n",
    "print(caldata.feature_names)"
   ]
  },
  {
   "cell_type": "code",
   "execution_count": 221,
   "id": "b9b42bef-2cc3-4b9e-b826-3334ef36762c",
   "metadata": {},
   "outputs": [],
   "source": [
    "X_california = pd.DataFrame(caldata.data, columns=caldata.feature_names)\n",
    "y_california = caldata.target\n",
    "\n",
    "\n",
    "features = X_california.columns\n",
    "r2_scores = []\n",
    "adjusted_r2_scores = []\n",
    "ssr_list = []\n",
    "sse_list = []\n",
    "sst_list = []\n",
    "p=8\n",
    "\n",
    "#samples\n",
    "n = len(y_california)\n",
    "\n",
    "for feature in features:\n",
    "    \n",
    "    X_feature = X_california[[feature]]\n",
    "    \n",
    "    model = LinearRegression()\n",
    "    model.fit(X_feature, y_california)\n",
    "    \n",
    "    y_pred = model.predict(X_feature)\n",
    "    \n",
    "    #SST, SSR, SSE\n",
    "    y_mean = np.mean(y_california)\n",
    "    sst = np.sum((y_california - y_mean) ** 2)  \n",
    "    ssr = np.sum((y_pred - y_mean) ** 2)  \n",
    "    sse = np.sum((y_california - y_pred) ** 2)  \n",
    "    \n",
    "  \n",
    "    r2 = ssr/sst\n",
    "    adjusted_r2 = 1 - ((1 - r2) * (n - 1) / (n - p - 1))\n",
    "    \n",
    "  \n",
    "    r2_scores.append(r2)\n",
    "    adjusted_r2_scores.append(adjusted_r2)\n",
    "    ssr_list.append(ssr)\n",
    "    sse_list.append(sse)\n",
    "    sst_list.append(sst)\n",
    "    "
   ]
  },
  {
   "cell_type": "code",
   "execution_count": 223,
   "id": "01c5ee2e-79a6-4b8c-a12b-17be55752eee",
   "metadata": {},
   "outputs": [],
   "source": [
    "results = pd.DataFrame({\n",
    "    'Feature': features,\n",
    "    'R^2': r2_scores,\n",
    "    'Adjusted R^2': adjusted_r2_scores,\n",
    "    'SSR': ssr_list,\n",
    "    'SSE': sse_list,\n",
    "    'SST': sst_list\n",
    "})\n"
   ]
  },
  {
   "cell_type": "code",
   "execution_count": 231,
   "id": "c967fac6-6292-46f5-bfc6-653eb35acb2a",
   "metadata": {},
   "outputs": [
    {
     "name": "stdout",
     "output_type": "stream",
     "text": [
      "\n",
      " Feature:\n",
      "      Feature       R^2  Adjusted R^2           SSR           SSE  \\\n",
      "0      MedInc  0.473447      0.473243  13011.851252  14471.346942   \n",
      "1    HouseAge  0.011156      0.010773    306.610949  27176.587245   \n",
      "2    AveRooms  0.023088      0.022709    634.539851  26848.658343   \n",
      "3   AveBedrms  0.002181      0.001794     59.939149  27423.259045   \n",
      "4  Population  0.000608      0.000220     16.698975  27466.499219   \n",
      "5    AveOccup  0.000563      0.000176     15.485814  27467.712380   \n",
      "6    Latitude  0.020782      0.020402    571.160921  26912.037273   \n",
      "7   Longitude  0.002113      0.001726     58.070066  27425.128128   \n",
      "\n",
      "            SST  \n",
      "0  27483.198194  \n",
      "1  27483.198194  \n",
      "2  27483.198194  \n",
      "3  27483.198194  \n",
      "4  27483.198194  \n",
      "5  27483.198194  \n",
      "6  27483.198194  \n",
      "7  27483.198194  \n"
     ]
    }
   ],
   "source": [
    "print(\"\\n Feature:\")\n",
    "print(results)"
   ]
  },
  {
   "cell_type": "code",
   "execution_count": 229,
   "id": "08677ff6-485c-449a-a614-8d9f535da18d",
   "metadata": {},
   "outputs": [
    {
     "name": "stdout",
     "output_type": "stream",
     "text": [
      "\n",
      "Best Feature:\n",
      "Feature               MedInc\n",
      "R^2                 0.473447\n",
      "Adjusted R^2        0.473243\n",
      "SSR             13011.851252\n",
      "SSE             14471.346942\n",
      "SST             27483.198194\n",
      "Name: 0, dtype: object\n"
     ]
    }
   ],
   "source": [
    "\n",
    "best_feature = results.sort_values(by='R^2', ascending=False).iloc[0]\n",
    "\n",
    "print(\"\\nBest Feature:\")\n",
    "print(best_feature)\n"
   ]
  },
  {
   "cell_type": "code",
   "execution_count": null,
   "id": "433bbe44-dc19-4f53-87ab-924fd33354ef",
   "metadata": {},
   "outputs": [],
   "source": []
  }
 ],
 "metadata": {
  "kernelspec": {
   "display_name": "Python 3 (ipykernel)",
   "language": "python",
   "name": "python3"
  },
  "language_info": {
   "codemirror_mode": {
    "name": "ipython",
    "version": 3
   },
   "file_extension": ".py",
   "mimetype": "text/x-python",
   "name": "python",
   "nbconvert_exporter": "python",
   "pygments_lexer": "ipython3",
   "version": "3.11.5"
  }
 },
 "nbformat": 4,
 "nbformat_minor": 5
}
